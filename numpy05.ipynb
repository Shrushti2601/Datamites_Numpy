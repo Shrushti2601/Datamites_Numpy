{
 "cells": [
  {
   "cell_type": "code",
   "execution_count": 1,
   "id": "64c80f8b",
   "metadata": {},
   "outputs": [
    {
     "data": {
      "text/plain": [
       "array([16, 11, 13, 17, 13, 16,  3, 16, 11, 10])"
      ]
     },
     "execution_count": 1,
     "metadata": {},
     "output_type": "execute_result"
    }
   ],
   "source": [
    "import numpy as np\n",
    "np.random.seed(122)\n",
    "arr=np.random.randint(1,21,10)\n",
    "arr"
   ]
  },
  {
   "cell_type": "code",
   "execution_count": 2,
   "id": "7c4c46e3",
   "metadata": {},
   "outputs": [],
   "source": [
    "np.random.shuffle(arr)"
   ]
  },
  {
   "cell_type": "code",
   "execution_count": 4,
   "id": "6a13ec0d",
   "metadata": {},
   "outputs": [
    {
     "data": {
      "text/plain": [
       "array([13, 16, 16, 11, 16, 10, 11, 13, 17,  3])"
      ]
     },
     "execution_count": 4,
     "metadata": {},
     "output_type": "execute_result"
    }
   ],
   "source": [
    "arr"
   ]
  },
  {
   "cell_type": "code",
   "execution_count": 6,
   "id": "24850961",
   "metadata": {},
   "outputs": [
    {
     "data": {
      "text/plain": [
       "5"
      ]
     },
     "execution_count": 6,
     "metadata": {},
     "output_type": "execute_result"
    }
   ],
   "source": [
    "import numpy as np\n",
    "arr=np.array([10,20,30,40,50])\n",
    "np.unique(arr).size"
   ]
  },
  {
   "cell_type": "code",
   "execution_count": 8,
   "id": "cee25352",
   "metadata": {},
   "outputs": [
    {
     "data": {
      "text/plain": [
       "(array([10, 20, 30, 40, 50]),\n",
       " array([0, 1, 2, 3, 6], dtype=int64),\n",
       " array([2, 2, 1, 1, 1], dtype=int64))"
      ]
     },
     "execution_count": 8,
     "metadata": {},
     "output_type": "execute_result"
    }
   ],
   "source": [
    "arr=np.array([10,20,30,40,10,20,50])\n",
    "np.unique(arr,return_index=True,return_counts=True)"
   ]
  },
  {
   "cell_type": "markdown",
   "id": "a05da1ec",
   "metadata": {},
   "source": [
    "# numpy stacking"
   ]
  },
  {
   "cell_type": "markdown",
   "id": "7fdcc361",
   "metadata": {},
   "source": [
    "there are two types -1 vertical and 2 horizontal"
   ]
  },
  {
   "cell_type": "code",
   "execution_count": 9,
   "id": "5c088dcc",
   "metadata": {},
   "outputs": [
    {
     "data": {
      "text/plain": [
       "array([1, 2, 3, 4, 5, 6, 7, 8])"
      ]
     },
     "execution_count": 9,
     "metadata": {},
     "output_type": "execute_result"
    }
   ],
   "source": [
    "import numpy as np\n",
    "a=np.array([1,2,3,4])\n",
    "b=np.array([5,6,7,8])\n",
    "np.hstack((a,b))"
   ]
  },
  {
   "cell_type": "code",
   "execution_count": 10,
   "id": "1cec4622",
   "metadata": {},
   "outputs": [
    {
     "data": {
      "text/plain": [
       "array([[1, 2, 3, 4],\n",
       "       [5, 6, 7, 8]])"
      ]
     },
     "execution_count": 10,
     "metadata": {},
     "output_type": "execute_result"
    }
   ],
   "source": [
    "np.vstack((a,b))"
   ]
  },
  {
   "cell_type": "code",
   "execution_count": 13,
   "id": "34583743",
   "metadata": {},
   "outputs": [
    {
     "data": {
      "text/plain": [
       "array([[16, 11, 13, 59, 56, 64],\n",
       "       [17, 13, 16, 53, 54, 69],\n",
       "       [ 3, 16, 11, 69, 63, 50]])"
      ]
     },
     "execution_count": 13,
     "metadata": {},
     "output_type": "execute_result"
    }
   ],
   "source": [
    "import numpy as np\n",
    "np.random.seed(122)\n",
    "arr1=np.random.randint(1,21,9).reshape(3,3)\n",
    "arr2=np.random.randint(50,71,9).reshape(3,3)\n",
    "np.hstack((arr1,arr2))"
   ]
  },
  {
   "cell_type": "code",
   "execution_count": 14,
   "id": "64c146f7",
   "metadata": {},
   "outputs": [
    {
     "data": {
      "text/plain": [
       "array([[16, 11, 13],\n",
       "       [17, 13, 16],\n",
       "       [ 3, 16, 11]])"
      ]
     },
     "execution_count": 14,
     "metadata": {},
     "output_type": "execute_result"
    }
   ],
   "source": [
    "arr1"
   ]
  },
  {
   "cell_type": "code",
   "execution_count": 15,
   "id": "9c02fd50",
   "metadata": {},
   "outputs": [
    {
     "data": {
      "text/plain": [
       "array([[59, 56, 64],\n",
       "       [53, 54, 69],\n",
       "       [69, 63, 50]])"
      ]
     },
     "execution_count": 15,
     "metadata": {},
     "output_type": "execute_result"
    }
   ],
   "source": [
    "arr2"
   ]
  },
  {
   "cell_type": "code",
   "execution_count": 16,
   "id": "fe43a116",
   "metadata": {},
   "outputs": [
    {
     "data": {
      "text/plain": [
       "array([[16, 11, 13],\n",
       "       [17, 13, 16],\n",
       "       [ 3, 16, 11],\n",
       "       [59, 56, 64],\n",
       "       [53, 54, 69],\n",
       "       [69, 63, 50]])"
      ]
     },
     "execution_count": 16,
     "metadata": {},
     "output_type": "execute_result"
    }
   ],
   "source": [
    "np.vstack((arr1,arr2))"
   ]
  },
  {
   "cell_type": "markdown",
   "id": "2c56e877",
   "metadata": {},
   "source": [
    "write statement to import numpy? "
   ]
  },
  {
   "cell_type": "code",
   "execution_count": 22,
   "id": "68420d43",
   "metadata": {},
   "outputs": [],
   "source": [
    "import numpy as np"
   ]
  },
  {
   "cell_type": "markdown",
   "id": "37a7fbbb",
   "metadata": {},
   "source": [
    "create array using numpy"
   ]
  },
  {
   "cell_type": "code",
   "execution_count": 18,
   "id": "803172c0",
   "metadata": {},
   "outputs": [],
   "source": [
    "arr=np.array([10,20,30])"
   ]
  },
  {
   "cell_type": "code",
   "execution_count": 19,
   "id": "f0285f58",
   "metadata": {},
   "outputs": [
    {
     "data": {
      "text/plain": [
       "array([10, 20, 30])"
      ]
     },
     "execution_count": 19,
     "metadata": {},
     "output_type": "execute_result"
    }
   ],
   "source": [
    "arr"
   ]
  },
  {
   "cell_type": "code",
   "execution_count": 20,
   "id": "072bb449",
   "metadata": {},
   "outputs": [
    {
     "data": {
      "text/plain": [
       "numpy.ndarray"
      ]
     },
     "execution_count": 20,
     "metadata": {},
     "output_type": "execute_result"
    }
   ],
   "source": [
    "type(arr)"
   ]
  },
  {
   "cell_type": "markdown",
   "id": "d0998184",
   "metadata": {},
   "source": [
    "create array of 10 random integers"
   ]
  },
  {
   "cell_type": "code",
   "execution_count": 80,
   "id": "7f34fda7",
   "metadata": {},
   "outputs": [
    {
     "data": {
      "text/plain": [
       "array([2, 8, 4, 1, 3, 2, 1, 9, 1, 7])"
      ]
     },
     "execution_count": 80,
     "metadata": {},
     "output_type": "execute_result"
    }
   ],
   "source": [
    "np.random.randint(1,10,10)"
   ]
  },
  {
   "cell_type": "code",
   "execution_count": 82,
   "id": "bc2bf76e",
   "metadata": {},
   "outputs": [
    {
     "data": {
      "text/plain": [
       "array([13, 14, 12, 19, 10, 15, 13, 12, 18, 15])"
      ]
     },
     "execution_count": 82,
     "metadata": {},
     "output_type": "execute_result"
    }
   ],
   "source": [
    "np.random.randint(10,20,10)"
   ]
  },
  {
   "cell_type": "code",
   "execution_count": 81,
   "id": "afe63aab",
   "metadata": {},
   "outputs": [
    {
     "data": {
      "text/plain": [
       "array([0.08796029, 0.86655401, 0.66179251, 0.63151183, 0.29124995,\n",
       "       0.96040431, 0.85445975, 0.09333718, 0.32707117, 0.20358237])"
      ]
     },
     "execution_count": 81,
     "metadata": {},
     "output_type": "execute_result"
    }
   ],
   "source": [
    "np.random.rand(10)"
   ]
  },
  {
   "cell_type": "markdown",
   "id": "66979467",
   "metadata": {},
   "source": [
    "create array which contain value 5 (10 times)"
   ]
  },
  {
   "cell_type": "code",
   "execution_count": 55,
   "id": "784b7786",
   "metadata": {},
   "outputs": [
    {
     "data": {
      "text/plain": [
       "array([5, 5, 5, 5, 5, 5, 5, 5, 5, 5])"
      ]
     },
     "execution_count": 55,
     "metadata": {},
     "output_type": "execute_result"
    }
   ],
   "source": [
    "a=np.array([5]*10)\n",
    "a    \n",
    "   \n",
    "   "
   ]
  },
  {
   "cell_type": "code",
   "execution_count": 57,
   "id": "a1470311",
   "metadata": {},
   "outputs": [
    {
     "name": "stdout",
     "output_type": "stream",
     "text": [
      "[5 5 5 5 5 5 5 5 5 5]\n"
     ]
    }
   ],
   "source": [
    "import numpy as np\n",
    "\n",
    "output = np.ones(10, dtype=int) * 5\n",
    "print(output)\n"
   ]
  },
  {
   "cell_type": "code",
   "execution_count": 70,
   "id": "099273c7",
   "metadata": {},
   "outputs": [
    {
     "data": {
      "text/plain": [
       "array([5., 5., 5., 5., 5., 5., 5., 5., 5., 5., 5.])"
      ]
     },
     "execution_count": 70,
     "metadata": {},
     "output_type": "execute_result"
    }
   ],
   "source": [
    "a=np.array([])\n",
    "for i in range(11):\n",
    "    a=np.append(a,5 )\n",
    "\n",
    "a\n"
   ]
  },
  {
   "cell_type": "markdown",
   "id": "615b990b",
   "metadata": {},
   "source": [
    "create 1D array and convert into 3*3 matrix"
   ]
  },
  {
   "cell_type": "code",
   "execution_count": 75,
   "id": "4e9d7760",
   "metadata": {},
   "outputs": [],
   "source": [
    "b=np.array([1,2,3,4,5,6,7,8,9]).reshape(3,3)"
   ]
  },
  {
   "cell_type": "code",
   "execution_count": 76,
   "id": "5c465e78",
   "metadata": {},
   "outputs": [
    {
     "data": {
      "text/plain": [
       "array([[1, 2, 3],\n",
       "       [4, 5, 6],\n",
       "       [7, 8, 9]])"
      ]
     },
     "execution_count": 76,
     "metadata": {},
     "output_type": "execute_result"
    }
   ],
   "source": [
    "b"
   ]
  },
  {
   "cell_type": "code",
   "execution_count": 79,
   "id": "89e79883",
   "metadata": {},
   "outputs": [
    {
     "data": {
      "text/plain": [
       "numpy.ndarray"
      ]
     },
     "execution_count": 79,
     "metadata": {},
     "output_type": "execute_result"
    }
   ],
   "source": [
    "type(b)"
   ]
  },
  {
   "cell_type": "markdown",
   "id": "15646da8",
   "metadata": {},
   "source": [
    "create array and then convert all even number with zero"
   ]
  },
  {
   "cell_type": "code",
   "execution_count": 88,
   "id": "a10b5c9c",
   "metadata": {},
   "outputs": [
    {
     "name": "stdout",
     "output_type": "stream",
     "text": [
      "[1 0 3 0 5 0]\n"
     ]
    }
   ],
   "source": [
    "arr=np.array([1,2,3,4,5,6])\n",
    "for i in range (len(arr)):\n",
    "    if arr[i]%2==0:\n",
    "        arr[i]=0\n",
    "print(arr)\n",
    "        "
   ]
  },
  {
   "cell_type": "code",
   "execution_count": null,
   "id": "e441d06c",
   "metadata": {},
   "outputs": [],
   "source": []
  }
 ],
 "metadata": {
  "kernelspec": {
   "display_name": "Python 3 (ipykernel)",
   "language": "python",
   "name": "python3"
  },
  "language_info": {
   "codemirror_mode": {
    "name": "ipython",
    "version": 3
   },
   "file_extension": ".py",
   "mimetype": "text/x-python",
   "name": "python",
   "nbconvert_exporter": "python",
   "pygments_lexer": "ipython3",
   "version": "3.9.7"
  }
 },
 "nbformat": 4,
 "nbformat_minor": 5
}
